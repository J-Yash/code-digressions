{
 "cells": [
  {
   "cell_type": "code",
   "execution_count": null,
   "metadata": {},
   "outputs": [],
   "source": [
    "# Install commmands (Feb 2025):\n",
    "\n",
    "# create a conda environment\n",
    "# conda create -n fastai-env python=3.10\n",
    "\n",
    "# activate the conda environment\n",
    "# conda activate fastai-env\n",
    "\n",
    "# Install PyTorch 2.5\n",
    "# pip install torch==2.5.1 torchvision==0.20.1 torchaudio==2.5.1 --index-url https://download.pytorch.org/whl/cu124\n",
    "\n",
    "# Install fastai 2.7\n",
    "# pip install fastai==2.7"
   ]
  }
 ],
 "metadata": {
  "language_info": {
   "name": "python"
  }
 },
 "nbformat": 4,
 "nbformat_minor": 2
}
